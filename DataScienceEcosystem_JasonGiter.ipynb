{
 "cells": [
  {
   "cell_type": "markdown",
   "id": "09bb244c-a2b2-427b-8831-18ec39e99280",
   "metadata": {},
   "source": [
    "# Data Science Tools and Ecosystem"
   ]
  },
  {
   "cell_type": "markdown",
   "id": "8c2dce32-c06d-4340-a3b8-15fe58baa8ca",
   "metadata": {},
   "source": [
    "## In this note book,Data Science Tool and Ecosystem are summarized"
   ]
  },
  {
   "cell_type": "markdown",
   "id": "59ade2fe-9417-4797-bf61-31aa0dfb053b",
   "metadata": {},
   "source": [
    "### Some of the popular languages that Data Scientists use are:"
   ]
  },
  {
   "cell_type": "markdown",
   "id": "f987f579-51f1-4d15-a8aa-fbb0a56d9ea8",
   "metadata": {},
   "source": [
    "1. Python\n",
    "2. R\n",
    "3. SQL\n",
    "4. Java\n",
    "5. Julia"
   ]
  },
  {
   "cell_type": "markdown",
   "id": "ae207417-5c37-43d5-8ec8-a291b111d0dc",
   "metadata": {},
   "source": [
    "### Some of the commonly used libraries used by Data Scientists include:"
   ]
  },
  {
   "cell_type": "markdown",
   "id": "0fece52c-fd4a-4c49-aaa4-c7e35db840ca",
   "metadata": {},
   "source": [
    "1. numpy\n",
    "2. pandas\n",
    "3. matplotlib\n",
    "4. Scikit_learn\n",
    "5. PyTorch"
   ]
  },
  {
   "cell_type": "markdown",
   "id": "26f01d24-636b-4019-bec3-789f58445d39",
   "metadata": {},
   "source": [
    "### Data Science Tools"
   ]
  },
  {
   "cell_type": "markdown",
   "id": "e083c64b-36c6-47d9-ae0f-63fea2bb2829",
   "metadata": {},
   "source": [
    "|data science tools| \n",
    "|---|\n",
    "| Jupyter Notebook |\n",
    "| Matplotlib |\n",
    "| NumPy |\n",
    "| Pandas |\n",
    "| PyTorch |"
   ]
  },
  {
   "cell_type": "markdown",
   "id": "30cb7c6d-9b64-47cb-9905-df9342a8d324",
   "metadata": {},
   "source": [
    "### Below are a few examples of evaluating arithmetic expressions in Python"
   ]
  },
  {
   "cell_type": "code",
   "execution_count": 12,
   "id": "e5ee1531-5eb9-42ff-b402-d8598e8680b2",
   "metadata": {},
   "outputs": [
    {
     "name": "stdout",
     "output_type": "stream",
     "text": [
      "9\n"
     ]
    }
   ],
   "source": [
    "w = 2\n",
    "b = 7\n",
    "X = 1\n",
    "y = w * X + b\n",
    "print(y)"
   ]
  },
  {
   "cell_type": "code",
   "execution_count": 14,
   "id": "dae68f68-31f8-4376-851e-8319c5296d40",
   "metadata": {},
   "outputs": [
    {
     "data": {
      "text/plain": [
       "17"
      ]
     },
     "execution_count": 14,
     "metadata": {},
     "output_type": "execute_result"
    }
   ],
   "source": [
    "# this is a simple arithmetic exression to multiply then add integers\n",
    "(3 * 4) + 5"
   ]
  },
  {
   "cell_type": "code",
   "execution_count": 15,
   "id": "e9772ffb-7ef8-41fd-8161-3b32259df736",
   "metadata": {},
   "outputs": [
    {
     "name": "stdout",
     "output_type": "stream",
     "text": [
      "3.3333333333333335\n"
     ]
    }
   ],
   "source": [
    "# this will convert 200 minutes to hours by dividing by 60\n",
    "Hours = 200 / 60\n",
    "print(Hours)"
   ]
  },
  {
   "cell_type": "markdown",
   "id": "fcc506de-2bb9-4c88-b705-4f3aca5afae6",
   "metadata": {},
   "source": [
    "# objectives"
   ]
  },
  {
   "cell_type": "markdown",
   "id": "a7aa337e-7794-4c01-a882-d0717750be3b",
   "metadata": {},
   "source": [
    "* List popular languages for Data Science\n",
    "* List examples of languages, libraries and tools used in Data Science\n",
    "* Evaluate arithmetic expressions in Python\n",
    "* Create a Jupyter Notebook with markdown and code cells\n",
    "* Share my Jupyter Notebook publicly on GitHub"
   ]
  },
  {
   "cell_type": "markdown",
   "id": "30781b7c-e831-4e14-807e-76537935f6b9",
   "metadata": {},
   "source": [
    "## Arthor"
   ]
  },
  {
   "cell_type": "markdown",
   "id": "36f2f648-f9b2-4afe-bb54-ee68e786d853",
   "metadata": {},
   "source": [
    "Jason Giter"
   ]
  }
 ],
 "metadata": {
  "kernelspec": {
   "display_name": "Python 3 (ipykernel)",
   "language": "python",
   "name": "python3"
  },
  "language_info": {
   "codemirror_mode": {
    "name": "ipython",
    "version": 3
   },
   "file_extension": ".py",
   "mimetype": "text/x-python",
   "name": "python",
   "nbconvert_exporter": "python",
   "pygments_lexer": "ipython3",
   "version": "3.12.4"
  }
 },
 "nbformat": 4,
 "nbformat_minor": 5
}
